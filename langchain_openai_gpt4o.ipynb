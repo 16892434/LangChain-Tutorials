{
  "nbformat": 4,
  "nbformat_minor": 0,
  "metadata": {
    "colab": {
      "provenance": [],
      "authorship_tag": "ABX9TyP+7jG/IeRkyerZlQRrt1Ut",
      "include_colab_link": true
    },
    "kernelspec": {
      "name": "python3",
      "display_name": "Python 3"
    },
    "language_info": {
      "name": "python"
    }
  },
  "cells": [
    {
      "cell_type": "markdown",
      "metadata": {
        "id": "view-in-github",
        "colab_type": "text"
      },
      "source": [
        "<a href=\"https://colab.research.google.com/github/sugarforever/LangChain-Tutorials/blob/main/langchain_openai_gpt4o.ipynb\" target=\"_parent\"><img src=\"https://colab.research.google.com/assets/colab-badge.svg\" alt=\"Open In Colab\"/></a>"
      ]
    },
    {
      "cell_type": "code",
      "execution_count": 3,
      "metadata": {
        "id": "0hbGWIPliFVc"
      },
      "outputs": [],
      "source": [
        "!pip install langchain_core langchain_openai -q -U"
      ]
    },
    {
      "cell_type": "code",
      "source": [
        "from langchain_openai import ChatOpenAI\n",
        "from langchain_core.messages import HumanMessage"
      ],
      "metadata": {
        "id": "x-pHksddjSM6"
      },
      "execution_count": 5,
      "outputs": []
    },
    {
      "cell_type": "code",
      "source": [
        "from google.colab import userdata\n",
        "OPENAI_API_KEY = userdata.get('OPENAI_API_KEY')\n",
        "MODEL_NAME = 'gpt-4o'"
      ],
      "metadata": {
        "id": "CkG2HdO9jsel"
      },
      "execution_count": 19,
      "outputs": []
    },
    {
      "cell_type": "code",
      "source": [
        "llm = ChatOpenAI(model=MODEL_NAME, api_key=OPENAI_API_KEY)"
      ],
      "metadata": {
        "id": "lllcnOQSj2ta"
      },
      "execution_count": 20,
      "outputs": []
    },
    {
      "cell_type": "code",
      "source": [
        "response = llm.invoke(\"What can you do?\")"
      ],
      "metadata": {
        "id": "_sifbHN7j-yz"
      },
      "execution_count": 30,
      "outputs": []
    },
    {
      "cell_type": "code",
      "source": [
        "print(response.content)"
      ],
      "metadata": {
        "colab": {
          "base_uri": "https://localhost:8080/"
        },
        "id": "AN7Ht66CkRSU",
        "outputId": "063f598f-25f1-4e3e-9541-9790ef913ccb"
      },
      "execution_count": 31,
      "outputs": [
        {
          "output_type": "stream",
          "name": "stdout",
          "text": [
            "As an AI developed by OpenAI, I can assist you in a variety of tasks, including but not limited to:\n",
            "\n",
            "1. **Answering Questions**: I can provide answers to questions across a wide range of topics, from science, technology, and mathematics to literature, history, and general knowledge.\n",
            "\n",
            "2. **Educational Support**: I can help explain complex concepts, solve problems, and offer detailed explanations in areas such as mathematics, physics, and programming.\n",
            "\n",
            "3. **Writing and Editing Assistance**: I can help you write essays, reports, emails, and more. I can also assist with editing and improving your written content.\n",
            "\n",
            "4. **Programming Help**: I can help you understand programming concepts, debug code, or learn different programming languages like Python, Java, and more.\n",
            "\n",
            "5. **Data Analysis**: I can guide you through basic data analysis, explain statistical concepts, and help you understand machine learning principles.\n",
            "\n",
            "6. **Creative Writing**: I can assist in generating ideas, writing stories, poems, and even scripts.\n",
            "\n",
            "7. **Translation**: I can translate text between various languages, although for highly accurate or nuanced translations, especially for less common languages, professional human translation might be preferable.\n",
            "\n",
            "8. **Health and Fitness Advice**: While I can provide general information about health and fitness, it's important to consult with a professional for personalized advice.\n",
            "\n",
            "9. **Entertainment Recommendations**: I can suggest books, movies, music, games, and other forms of entertainment based on your interests.\n",
            "\n",
            "10. **Travel and Geography**: I can provide travel advice, including details about destinations, travel tips, and cultural information.\n",
            "\n",
            "11. **Cooking and Recipes**: I can help you find recipes, explain cooking techniques, and provide tips on food preparation.\n",
            "\n",
            "12. **Personal Finance Advice**: I can offer general advice and information on topics like budgeting, saving, and investing, but for personalized financial advice, consulting with a professional is recommended.\n",
            "\n",
            "I'm here to help with a broad spectrum of inquiries and tasks, leveraging a large database of knowledge that can be useful in many different scenarios.\n"
          ]
        }
      ]
    },
    {
      "cell_type": "code",
      "source": [
        "human_message = HumanMessage(content=[\n",
        "    { \"type\": \"text\", \"text\": \"Solve all the math equations in the image\" },\n",
        "    { \"type\": \"image_url\", \"image_url\": { \"url\": \"https://mathswithdavid.files.wordpress.com/2021/01/image-157.png?w=1024\" }}\n",
        "])\n",
        "response = llm.invoke([ human_message ])"
      ],
      "metadata": {
        "id": "UGFV8HxdmJ_S"
      },
      "execution_count": 33,
      "outputs": []
    },
    {
      "cell_type": "code",
      "source": [
        "print(response.content)"
      ],
      "metadata": {
        "colab": {
          "base_uri": "https://localhost:8080/"
        },
        "id": "sPZb9mrdmpwx",
        "outputId": "8843e55f-82d9-4b3d-f615-b3fd5f4fbf63"
      },
      "execution_count": 35,
      "outputs": [
        {
          "output_type": "stream",
          "name": "stdout",
          "text": [
            "Let's solve each equation step-by-step:\n",
            "\n",
            "**(a) 2x + 3 = 9**\n",
            "\\[ 2x = 9 - 3 \\]\n",
            "\\[ 2x = 6 \\]\n",
            "\\[ x = 3 \\]\n",
            "\n",
            "**(b) 3w - 1 = 14**\n",
            "\\[ 3w = 14 + 1 \\]\n",
            "\\[ 3w = 15 \\]\n",
            "\\[ w = 5 \\]\n",
            "\n",
            "**(c) 7y + 2 = 30**\n",
            "\\[ 7y = 30 - 2 \\]\n",
            "\\[ 7y = 28 \\]\n",
            "\\[ y = 4 \\]\n",
            "\n",
            "**(d) 5x + 20 = 35**\n",
            "\\[ 5x = 35 - 20 \\]\n",
            "\\[ 5x = 15 \\]\n",
            "\\[ x = 3 \\]\n",
            "\n",
            "**(e) 6c - 12 = 48**\n",
            "\\[ 6c = 48 + 12 \\]\n",
            "\\[ 6c = 60 \\]\n",
            "\\[ c = 10 \\]\n",
            "\n",
            "**(f) 8m - 4 = 20**\n",
            "\\[ 8m = 20 + 4 \\]\n",
            "\\[ 8m = 24 \\]\n",
            "\\[ m = 3 \\]\n",
            "\n",
            "**(g) 7w + 13 = 90**\n",
            "\\[ 7w = 90 - 13 \\]\n",
            "\\[ 7w = 77 \\]\n",
            "\\[ w = 11 \\]\n",
            "\n",
            "**(h) 12p - 18 = 30**\n",
            "\\[ 12p = 30 + 18 \\]\n",
            "\\[ 12p = 48 \\]\n",
            "\\[ p = 4 \\]\n",
            "\n",
            "**(i) 9w - 5 = 67**\n",
            "\\[ 9w = 67 + 5 \\]\n",
            "\\[ 9w = 72 \\]\n",
            "\\[ w = 8 \\]\n",
            "\n",
            "**(j) 10a + 40 = 100**\n",
            "\\[ 10a = 100 - 40 \\]\n",
            "\\[ 10a = 60 \\]\n",
            "\\[ a = 6 \\]\n",
            "\n",
            "**(k) 9x - 24 = 84**\n",
            "\\[ 9x = 84 + 24 \\]\n",
            "\\[ 9x = 108 \\]\n",
            "\\[ x = 12 \\]\n",
            "\n",
            "**(l) 7w + 1 = 1**\n",
            "\\[ 7w = 1 - 1 \\]\n",
            "\\[ 7w = 0 \\]\n",
            "\\[ w = 0 \\]\n",
            "\n",
            "**(m) 6x - 19 = 5**\n",
            "\\[ 6x = 5 + 19 \\]\n",
            "\\[ 6x = 24 \\]\n",
            "\\[ x = 4 \\]\n",
            "\n",
            "**(n) 3w + 4 = 43**\n",
            "\\[ 3w = 43 - 4 \\]\n",
            "\\[ 3w = 39 \\]\n",
            "\\[ w = 13 \\]\n",
            "\n",
            "**(o) \\frac{x}{3} + 1 = 5**\n",
            "\\[ \\frac{x}{3} = 5 - 1 \\]\n",
            "\\[ \\frac{x}{3} = 4 \\]\n",
            "\\[ x = 12 \\]\n",
            "\n",
            "**(p) \\frac{c}{2} - 4 = 6**\n",
            "\\[ \\frac{c}{2} = 6 + 4 \\]\n",
            "\\[ \\frac{c}{2} = 10 \\]\n",
            "\\[ c = 20 \\]\n",
            "\n",
            "**(q) \\frac{x}{10} + 3 = 9**\n",
            "\\[ \\frac{x}{10} = 9 - 3 \\]\n",
            "\\[ \\frac{x}{10} = 6 \\]\n",
            "\\[ x = 60 \\]\n",
            "\n",
            "**(r) \\frac{n}{9} - 8 = 1**\n",
            "\\[ \\frac{n}{9} = 1 + 8 \\]\n",
            "\\[ \\frac{n}{9} = 9 \\]\n",
            "\\[ n = 81 \\]\n",
            "\n",
            "These are the values of the variables for each equation.\n"
          ]
        }
      ]
    },
    {
      "cell_type": "code",
      "source": [
        "human_message = HumanMessage(content=[\n",
        "    { \"type\": \"text\", \"text\": \"What shops are there in the image? How many people do you observe? What are they doing?\" },\n",
        "    { \"type\": \"image_url\", \"image_url\": { \"url\": \"https://images.unsplash.com/photo-1715514894643-aedb49942811?q=80&w=3387&auto=format&fit=crop&ixlib=rb-4.0.3&ixid=M3wxMjA3fDB8MHxwaG90by1wYWdlfHx8fGVufDB8fHx8fA%3D%3D\" }}\n",
        "])\n",
        "response = llm.invoke([ human_message ])"
      ],
      "metadata": {
        "id": "TA4inoE-pE00"
      },
      "execution_count": 36,
      "outputs": []
    },
    {
      "cell_type": "code",
      "source": [
        "print(response.content)"
      ],
      "metadata": {
        "colab": {
          "base_uri": "https://localhost:8080/"
        },
        "id": "8WbSLsEbpFyb",
        "outputId": "3983da8e-76fa-437e-e7aa-b604a25edc2e"
      },
      "execution_count": 37,
      "outputs": [
        {
          "output_type": "stream",
          "name": "stdout",
          "text": [
            "In the image, there are several shops, prominently featuring restaurants with Japanese signage. The shops include a Tonchin ramen restaurant identifiable by its yellow sign and a restaurant with a large sign featuring a chicken, possibly indicating a specialty in chicken dishes.\n",
            "\n",
            "There are at least five visible people in the image. Four people are inside the restaurant on the ground floor, seated and appearing to be eating or interacting with each other at the tables. Another person can be seen in a window above, likely a staff member or a chef, possibly preparing food or overseeing the kitchen.\n",
            "\n",
            "The scene captures a vibrant street life, typical of urban dining areas in Japan, with a focus on culinary experiences and social interactions.\n"
          ]
        }
      ]
    }
  ]
}