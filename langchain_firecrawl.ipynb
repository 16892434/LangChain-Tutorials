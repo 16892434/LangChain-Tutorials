{
  "nbformat": 4,
  "nbformat_minor": 0,
  "metadata": {
    "colab": {
      "provenance": [],
      "authorship_tag": "ABX9TyMCL58YEvwYygGhznz8AUrd",
      "include_colab_link": true
    },
    "kernelspec": {
      "name": "python3",
      "display_name": "Python 3"
    },
    "language_info": {
      "name": "python"
    }
  },
  "cells": [
    {
      "cell_type": "markdown",
      "metadata": {
        "id": "view-in-github",
        "colab_type": "text"
      },
      "source": [
        "<a href=\"https://colab.research.google.com/github/sugarforever/LangChain-Tutorials/blob/main/langchain_firecrawl.ipynb\" target=\"_parent\"><img src=\"https://colab.research.google.com/assets/colab-badge.svg\" alt=\"Open In Colab\"/></a>"
      ]
    },
    {
      "cell_type": "code",
      "execution_count": 3,
      "metadata": {
        "colab": {
          "base_uri": "https://localhost:8080/"
        },
        "id": "OyTrynJbYbIZ",
        "outputId": "60f995fd-969d-42d9-c88a-67d1cf244bc6"
      },
      "outputs": [
        {
          "output_type": "stream",
          "name": "stdout",
          "text": [
            "\u001b[2K     \u001b[90m━━━━━━━━━━━━━━━━━━━━━━━━━━━━━━━━━━━━━━━━\u001b[0m \u001b[32m311.6/311.6 kB\u001b[0m \u001b[31m8.4 MB/s\u001b[0m eta \u001b[36m0:00:00\u001b[0m\n",
            "\u001b[2K     \u001b[90m━━━━━━━━━━━━━━━━━━━━━━━━━━━━━━━━━━━━━━━━\u001b[0m \u001b[32m1.8/1.8 MB\u001b[0m \u001b[31m35.6 MB/s\u001b[0m eta \u001b[36m0:00:00\u001b[0m\n",
            "\u001b[2K     \u001b[90m━━━━━━━━━━━━━━━━━━━━━━━━━━━━━━━━━━━━━━━━\u001b[0m \u001b[32m75.6/75.6 kB\u001b[0m \u001b[31m9.2 MB/s\u001b[0m eta \u001b[36m0:00:00\u001b[0m\n",
            "\u001b[2K     \u001b[90m━━━━━━━━━━━━━━━━━━━━━━━━━━━━━━━━━━━━━━━━\u001b[0m \u001b[32m77.9/77.9 kB\u001b[0m \u001b[31m9.0 MB/s\u001b[0m eta \u001b[36m0:00:00\u001b[0m\n",
            "\u001b[2K     \u001b[90m━━━━━━━━━━━━━━━━━━━━━━━━━━━━━━━━━━━━━━━━\u001b[0m \u001b[32m58.3/58.3 kB\u001b[0m \u001b[31m8.3 MB/s\u001b[0m eta \u001b[36m0:00:00\u001b[0m\n",
            "\u001b[?25h"
          ]
        }
      ],
      "source": [
        "!pip install langchain langchain_openai firecrawl-py faiss-cpu -q -U"
      ]
    },
    {
      "cell_type": "code",
      "source": [
        "from langchain_community.document_loaders import FireCrawlLoader"
      ],
      "metadata": {
        "id": "4rahZqw7YkTj"
      },
      "execution_count": 4,
      "outputs": []
    },
    {
      "cell_type": "code",
      "source": [
        "from langchain_community.vectorstores import FAISS\n",
        "from langchain_openai import OpenAIEmbeddings\n",
        "from langchain_text_splitters import CharacterTextSplitter\n",
        "from langchain_community.document_loaders import TextLoader\n",
        "from google.colab import userdata\n",
        "\n",
        "def build_vector_retriever(firecrawl_api_key, scrape_url):\n",
        "  loader = FireCrawlLoader(api_key=firecrawl_api_key, url=scrape_url, mode=\"scrape\")\n",
        "  documents = loader.load()\n",
        "  text_splitter = CharacterTextSplitter(chunk_size=1000, chunk_overlap=0)\n",
        "  docs = text_splitter.split_documents(documents)\n",
        "  embeddings = OpenAIEmbeddings(api_key=userdata.get(\"OPENAI_API_KEY\"))\n",
        "  db = FAISS.from_documents(docs, embeddings)\n",
        "\n",
        "  return db.as_retriever()"
      ],
      "metadata": {
        "id": "BHLCtjZhYwvb"
      },
      "execution_count": 20,
      "outputs": []
    },
    {
      "cell_type": "code",
      "source": [
        "retriever = build_vector_retriever(userdata.get(\"FIRECRAWL_API_KEY\"), \"https://stablediffusionapi.com/docs/stable-diffusion-api/img2img\")"
      ],
      "metadata": {
        "colab": {
          "base_uri": "https://localhost:8080/"
        },
        "id": "sALR6PqCY5lV",
        "outputId": "aad4f2cb-8abb-40b8-b994-41ec5d634fae"
      },
      "execution_count": 21,
      "outputs": [
        {
          "output_type": "stream",
          "name": "stderr",
          "text": [
            "WARNING:langchain_text_splitters.base:Created a chunk of size 1419, which is longer than the specified 1000\n",
            "WARNING:langchain_text_splitters.base:Created a chunk of size 1462, which is longer than the specified 1000\n",
            "WARNING:langchain_text_splitters.base:Created a chunk of size 1067, which is longer than the specified 1000\n",
            "WARNING:langchain_text_splitters.base:Created a chunk of size 1391, which is longer than the specified 1000\n"
          ]
        }
      ]
    },
    {
      "cell_type": "code",
      "source": [
        "from langchain_core.runnables import RunnableParallel, RunnablePassthrough\n",
        "from langchain_core.prompts import ChatPromptTemplate\n",
        "from langchain_core.output_parsers import StrOutputParser\n",
        "from langchain_openai import ChatOpenAI\n",
        "\n",
        "def build_qa_chain(retriever):\n",
        "  prompt = ChatPromptTemplate.from_template(\"Using the context below to answer user's question. If you can't find information within the context, simply answer I don't know.\\n\\n <context>{context}</context> <question>{question}</question>\")\n",
        "  model = ChatOpenAI(api_key=userdata.get('OPENAI_API_KEY'))\n",
        "\n",
        "  chain = {\"context\": retriever, \"question\": RunnablePassthrough()} | prompt | model | StrOutputParser()\n",
        "\n",
        "  return chain"
      ],
      "metadata": {
        "id": "i4T4Kj7HZZNc"
      },
      "execution_count": 22,
      "outputs": []
    },
    {
      "cell_type": "code",
      "source": [
        "chain = build_qa_chain(retriever=retriever)\n",
        "\n",
        "chain.invoke(\"How to use img2img API in Python\")"
      ],
      "metadata": {
        "colab": {
          "base_uri": "https://localhost:8080/",
          "height": 71
        },
        "id": "umnGP2bcaeOx",
        "outputId": "7bed7447-67e4-485d-85bf-6d86f7286abd"
      },
      "execution_count": 23,
      "outputs": [
        {
          "output_type": "execute_result",
          "data": {
            "text/plain": [
              "'To use the img2img API in Python, you can make a POST request to the specified endpoint with the required parameters like prompt, negative prompt, initial image, width, height, and other attributes as shown in the provided code snippet. Make sure to import the necessary libraries like requests and json, then create a payload with the required parameters, and send a POST request to the API endpoint.'"
            ],
            "application/vnd.google.colaboratory.intrinsic+json": {
              "type": "string"
            }
          },
          "metadata": {},
          "execution_count": 23
        }
      ]
    },
    {
      "cell_type": "code",
      "source": [],
      "metadata": {
        "id": "YoV-D9pmdUhN"
      },
      "execution_count": null,
      "outputs": []
    }
  ]
}